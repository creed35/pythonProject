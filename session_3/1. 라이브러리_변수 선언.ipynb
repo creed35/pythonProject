{
 "cells": [
  {
   "cell_type": "code",
   "execution_count": 1,
   "metadata": {},
   "outputs": [
    {
     "name": "stdout",
     "output_type": "stream",
     "text": [
      "7\n"
     ]
    }
   ],
   "source": [
    "#  시간 계산 라이브러리 선언\n",
    "import datetime\n",
    "\n",
    "#  now 변수에 현재시간 변수 담기\n",
    "now = datetime.datetime.now()\n",
    "\n",
    "#  오늘날짜 변수담기 & 데이터 출력\n",
    "today = now.day\n",
    "print(today)"
   ]
  },
  {
   "cell_type": "code",
   "execution_count": 2,
   "metadata": {},
   "outputs": [
    {
     "name": "stdout",
     "output_type": "stream",
     "text": [
      "[1.  1.4 1.8 2.2 2.6 3.  3.4 3.8 4.2 4.6 5. ]\n",
      "[ 1.    1.96  3.24  4.84  6.76  9.   11.56 14.44 17.64 21.16 25.  ]\n",
      "<class 'numpy.ndarray'>\n"
     ]
    }
   ],
   "source": [
    "#  numpy 라이브러리와 numpy의 linspace를 활용하여 1,5 까지 11개의 숫자를 생성하세요\n",
    "\n",
    "import matplotlib.pyplot as plt\n",
    "import numpy as np\n",
    "\n",
    "# %matplotlib Inline\n",
    "\n",
    "x = np.linspace(1,5,11)\n",
    "y = x**2\n",
    "\n",
    "plt.plot(x,y)\n",
    "\n",
    "print(x)\n",
    "print(y)\n",
    "print(type(x))"
   ]
  },
  {
   "cell_type": "code",
   "execution_count": 3,
   "metadata": {},
   "outputs": [
    {
     "name": "stdout",
     "output_type": "stream",
     "text": [
      "True\n"
     ]
    }
   ],
   "source": [
    "#  변수에 특정 값 할당\n",
    "stockname = 'SEA'\n",
    "\n",
    "#  조건 식 수행 일치 시 실행\n",
    "if stockname == \"SEC\":\n",
    "    print(\"Union\")\n",
    "elif stockname == \"SEA\":\n",
    "    print(\"True\")\n",
    "#  조건이 일치하지 않는 경우 else 조건 실행\n",
    "else:\n",
    "    print(\"False\")\n"
   ]
  },
  {
   "cell_type": "code",
   "execution_count": 4,
   "metadata": {},
   "outputs": [
    {
     "name": "stdout",
     "output_type": "stream",
     "text": [
      "B\n"
     ]
    }
   ],
   "source": [
    "#  SCORE  변수를 80으로 선언 후 90점이상 A, 80~90점 B, 이외 C 점수로 판단하는 조건문을 구현하세요\n",
    "score = 80\n",
    "\n",
    "if score >= 90:\n",
    "    print(\"A\")\n",
    "# elif 70 < score < 90:\n",
    "elif score >= 80:    \n",
    "    print(\"B\")\n",
    "else:\n",
    "    print(\"C\")\n"
   ]
  },
  {
   "cell_type": "code",
   "execution_count": 5,
   "metadata": {
    "scrolled": true
   },
   "outputs": [
    {
     "name": "stdout",
     "output_type": "stream",
     "text": [
      "1\n",
      "1번문제 시작!\n",
      "2\n",
      "1번문제 시작!\n",
      "3\n",
      "1번문제 시작!\n",
      "4\n",
      "1번문제 시작!\n",
      "5\n",
      "1번문제 시작!\n",
      "6\n",
      "1번문제 시작!\n",
      "7\n",
      "1번문제 시작!\n",
      "8\n",
      "1번문제 시작!\n",
      "9\n",
      "1번문제 시작!\n",
      "10\n",
      "1번문제 시작!\n",
      "1\n",
      "2번문제 시작!\n",
      "2\n",
      "2번문제 시작!\n",
      "3\n",
      "2번문제 시작!\n",
      "4\n",
      "2번문제 시작!\n",
      "5\n",
      "2번문제 시작!\n",
      "6\n",
      "2번문제 시작!\n",
      "7\n",
      "2번문제 시작!\n",
      "8\n",
      "2번문제 시작!\n",
      "9\n",
      "2번문제 시작!\n",
      "10\n",
      "2번문제 시작!\n"
     ]
    }
   ],
   "source": [
    "#  반복문 예제 #1\n",
    "i = 1\n",
    "while i <= 10:\n",
    "    print(i)\n",
    "    i = i + 1;\n",
    "    print(\"1번문제 시작!\")\n",
    "    \n",
    "# 반복문 예제 #2\n",
    "for i in range(1,11):\n",
    "    print(i)\n",
    "    print(\"2번문제 시작!\")"
   ]
  },
  {
   "cell_type": "code",
   "execution_count": 6,
   "metadata": {},
   "outputs": [
    {
     "name": "stdout",
     "output_type": "stream",
     "text": [
      "1단 시작\n",
      "1 * 1 = 1\n",
      "1 * 2 = 2\n",
      "1 * 3 = 3\n",
      "1 * 4 = 4\n",
      "1 * 5 = 5\n",
      "1 * 6 = 6\n",
      "1 * 7 = 7\n",
      "1 * 8 = 8\n",
      "1 * 9 = 9\n",
      "2단 시작\n",
      "2 * 1 = 2\n",
      "2 * 2 = 4\n",
      "2 * 3 = 6\n",
      "2 * 4 = 8\n",
      "2 * 5 = 10\n",
      "2 * 6 = 12\n",
      "2 * 7 = 14\n",
      "2 * 8 = 16\n",
      "2 * 9 = 18\n"
     ]
    }
   ],
   "source": [
    "#  2중 for문\n",
    "for n in [1,2]:\n",
    "    print(\"{0}단 시작\".format(n))\n",
    "    for i in [1,2,3,4,5,6,7,8,9]:\n",
    "        print(\"{0} * {1} = {2}\".format(n,i,n*i))"
   ]
  },
  {
   "cell_type": "code",
   "execution_count": 7,
   "metadata": {},
   "outputs": [
    {
     "name": "stdout",
     "output_type": "stream",
     "text": [
      "1단 시작\n",
      "1 * 1 = 1\n",
      "1 * 2 = 2\n",
      "1 * 3 = 3\n",
      "1 * 4 = 4\n",
      "1 * 5 = 5\n",
      "2단 시작\n",
      "2 * 1 = 2\n",
      "2 * 2 = 4\n",
      "2 * 3 = 6\n",
      "2 * 4 = 8\n",
      "2 * 5 = 10\n"
     ]
    }
   ],
   "source": [
    "#  break 문\n",
    "for n in [1,2]:\n",
    "    print(\"{0}단 시작\".format(n))\n",
    "    for i in [1,2,3,4,5,6,7,8,9]:\n",
    "        if i > 5:\n",
    "            break\n",
    "        print(\"{0} * {1} = {2}\".format(n,i,n*i))    \n",
    "    "
   ]
  },
  {
   "cell_type": "code",
   "execution_count": 8,
   "metadata": {},
   "outputs": [
    {
     "name": "stdout",
     "output_type": "stream",
     "text": [
      "1단 시작\n",
      "1 * 1 = 1\n",
      "1 * 2 = 2\n",
      "1 * 3 = 3\n",
      "1 * 4 = 4\n",
      "1 * 5 = 5\n",
      "1 * 6 = 6\n",
      "1 * 7 = 7\n",
      "1 * 8 = 8\n",
      "1 * 9 = 9\n"
     ]
    }
   ],
   "source": [
    "#  continue 문\n",
    "for n in [1,2]:\n",
    "    if n%2 == 0:\n",
    "        continue\n",
    "    print(\"{0}단 시작\".format(n))\n",
    "    for i in [1,2,3,4,5,6,7,8,9]:\n",
    "        print(\"{0} * {1} = {2}\".format(n,i,n*i))  "
   ]
  },
  {
   "cell_type": "code",
   "execution_count": 9,
   "metadata": {},
   "outputs": [
    {
     "name": "stdout",
     "output_type": "stream",
     "text": [
      "A01\n",
      "A02\n",
      "A03\n",
      "한국\n",
      "미국\n",
      "인도\n",
      "A01 한국\n",
      "A02 미국\n",
      "A03 인도\n",
      "('A01', '한국')\n",
      "('A02', '미국')\n",
      "('A03', '인도')\n"
     ]
    }
   ],
   "source": [
    "#  Dictionary {‘A01’ : 한국, ‘A02’ : 미국, ‘A03’ : 인도} 생성 후 key를 for루프를 활용하여 출력하세요\n",
    "regionMapping = {'A01':'한국', 'A02':'미국', 'A03':'인도' } \n",
    "\n",
    "# 키와 값 가져오기\n",
    "\n",
    "    # 키만 가져오기\n",
    "    \n",
    "for key in regionMapping.keys():\n",
    "    print(key)\n",
    "\n",
    "    # 값만 가져오기\n",
    "    \n",
    "for value in regionMapping.values():\n",
    "    print(value)\n",
    "\n",
    "for key, value in regionMapping.items():\n",
    "    print(key, value)\n",
    "    \n",
    "for key in regionMapping.items():\n",
    "    print(key)\n",
    "        \n",
    "        \n",
    "     "
   ]
  },
  {
   "cell_type": "code",
   "execution_count": 10,
   "metadata": {},
   "outputs": [
    {
     "name": "stdout",
     "output_type": "stream",
     "text": [
      "5\n",
      "20\n"
     ]
    }
   ],
   "source": [
    "#  This function adds two numbers\n",
    "def add(x=10, y=10):\n",
    "    return x + y\n",
    "\n",
    "a = 3\n",
    "b = 2\n",
    "answer = add(a,b)\n",
    "print(answer)\n",
    "answerDefault = add()\n",
    "print(answerDefault)"
   ]
  },
  {
   "cell_type": "code",
   "execution_count": 11,
   "metadata": {},
   "outputs": [
    {
     "data": {
      "text/plain": [
       "6"
      ]
     },
     "execution_count": 11,
     "metadata": {},
     "output_type": "execute_result"
    }
   ],
   "source": [
    "# This function (lambda)\n",
    "(lambda x,y: x*y)(3,2)"
   ]
  },
  {
   "cell_type": "code",
   "execution_count": 12,
   "metadata": {},
   "outputs": [
    {
     "name": "stdout",
     "output_type": "stream",
     "text": [
      "성함을 입력하세요:이우석\n",
      "이우석\n"
     ]
    }
   ],
   "source": [
    "name = input(\"성함을 입력하세요:\")\n",
    "print(name)"
   ]
  },
  {
   "cell_type": "code",
   "execution_count": 13,
   "metadata": {},
   "outputs": [
    {
     "name": "stdout",
     "output_type": "stream",
     "text": [
      "InputX:6\n",
      "InputY:9\n"
     ]
    }
   ],
   "source": [
    "#  사칙연산(+,-,*,/)을 할수 있는 함수를 생성한 후 사용자의 변수를 2개 inputX, inputY를 입력받아 \n",
    "#  print문을 활용하여 더하기 예제를 출력하세요\n",
    "\n",
    "InputX = int(input(\"InputX:\"))\n",
    "InputY = int(input(\"InputY:\"))"
   ]
  },
  {
   "cell_type": "code",
   "execution_count": 16,
   "metadata": {},
   "outputs": [],
   "source": [
    "def add(x, y):\n",
    "    return x + y\n",
    "\n",
    "def minus(x, y):\n",
    "    return x - y\n",
    "\n",
    "def multiple(x, y):\n",
    "    return x * y\n",
    "\n",
    "def division(x, y):\n",
    "    return x / y"
   ]
  },
  {
   "cell_type": "code",
   "execution_count": 17,
   "metadata": {},
   "outputs": [
    {
     "name": "stdout",
     "output_type": "stream",
     "text": [
      "-3\n"
     ]
    }
   ],
   "source": [
    "print(minus(InputX,InputY))"
   ]
  }
 ],
 "metadata": {
  "kernelspec": {
   "display_name": "Python 3",
   "language": "python",
   "name": "python3"
  },
  "language_info": {
   "codemirror_mode": {
    "name": "ipython",
    "version": 3
   },
   "file_extension": ".py",
   "mimetype": "text/x-python",
   "name": "python",
   "nbconvert_exporter": "python",
   "pygments_lexer": "ipython3",
   "version": "3.6.4"
  }
 },
 "nbformat": 4,
 "nbformat_minor": 2
}
