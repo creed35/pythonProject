{
 "cells": [
  {
   "cell_type": "code",
   "execution_count": 1,
   "metadata": {},
   "outputs": [
    {
     "data": {
      "text/plain": [
       "'C:\\\\Users\\\\SMART-07\\\\Python Session\\\\Session_1'"
      ]
     },
     "execution_count": 1,
     "metadata": {},
     "output_type": "execute_result"
    }
   ],
   "source": [
    "pwd"
   ]
  },
  {
   "cell_type": "code",
   "execution_count": 6,
   "metadata": {},
   "outputs": [
    {
     "data": {
      "text/plain": [
       "array([[1., 2., 3.],\n",
       "       [4., 5., 6.]])"
      ]
     },
     "execution_count": 6,
     "metadata": {},
     "output_type": "execute_result"
    }
   ],
   "source": [
    "import numpy as np\n",
    "np.loadtxt('../dataset/testnumpy.txt',\n",
    "            delimiter = ',')"
   ]
  },
  {
   "cell_type": "code",
   "execution_count": 7,
   "metadata": {},
   "outputs": [
    {
     "name": "stdout",
     "output_type": "stream",
     "text": [
      "[*********************100%***********************]  1 of 1 downloaded\n"
     ]
    },
    {
     "data": {
      "text/html": [
       "<div>\n",
       "<style scoped>\n",
       "    .dataframe tbody tr th:only-of-type {\n",
       "        vertical-align: middle;\n",
       "    }\n",
       "\n",
       "    .dataframe tbody tr th {\n",
       "        vertical-align: top;\n",
       "    }\n",
       "\n",
       "    .dataframe thead th {\n",
       "        text-align: right;\n",
       "    }\n",
       "</style>\n",
       "<table border=\"1\" class=\"dataframe\">\n",
       "  <thead>\n",
       "    <tr style=\"text-align: right;\">\n",
       "      <th></th>\n",
       "      <th>Open</th>\n",
       "      <th>High</th>\n",
       "      <th>Low</th>\n",
       "      <th>Close</th>\n",
       "      <th>Adj Close</th>\n",
       "      <th>Volume</th>\n",
       "    </tr>\n",
       "    <tr>\n",
       "      <th>Date</th>\n",
       "      <th></th>\n",
       "      <th></th>\n",
       "      <th></th>\n",
       "      <th></th>\n",
       "      <th></th>\n",
       "      <th></th>\n",
       "    </tr>\n",
       "  </thead>\n",
       "  <tbody>\n",
       "    <tr>\n",
       "      <th>2018-05-15</th>\n",
       "      <td>50200.0</td>\n",
       "      <td>50400.0</td>\n",
       "      <td>49100.0</td>\n",
       "      <td>49200.0</td>\n",
       "      <td>49200.0</td>\n",
       "      <td>18709146</td>\n",
       "    </tr>\n",
       "    <tr>\n",
       "      <th>2018-05-16</th>\n",
       "      <td>49200.0</td>\n",
       "      <td>50200.0</td>\n",
       "      <td>49150.0</td>\n",
       "      <td>49850.0</td>\n",
       "      <td>49850.0</td>\n",
       "      <td>15918683</td>\n",
       "    </tr>\n",
       "    <tr>\n",
       "      <th>2018-05-17</th>\n",
       "      <td>50300.0</td>\n",
       "      <td>50500.0</td>\n",
       "      <td>49400.0</td>\n",
       "      <td>49400.0</td>\n",
       "      <td>49400.0</td>\n",
       "      <td>10365440</td>\n",
       "    </tr>\n",
       "    <tr>\n",
       "      <th>2018-05-18</th>\n",
       "      <td>49900.0</td>\n",
       "      <td>49900.0</td>\n",
       "      <td>49350.0</td>\n",
       "      <td>49500.0</td>\n",
       "      <td>49500.0</td>\n",
       "      <td>6706570</td>\n",
       "    </tr>\n",
       "    <tr>\n",
       "      <th>2018-05-21</th>\n",
       "      <td>49650.0</td>\n",
       "      <td>50200.0</td>\n",
       "      <td>49100.0</td>\n",
       "      <td>50000.0</td>\n",
       "      <td>50000.0</td>\n",
       "      <td>9020998</td>\n",
       "    </tr>\n",
       "  </tbody>\n",
       "</table>\n",
       "</div>"
      ],
      "text/plain": [
       "               Open     High      Low    Close  Adj Close    Volume\n",
       "Date                                                               \n",
       "2018-05-15  50200.0  50400.0  49100.0  49200.0    49200.0  18709146\n",
       "2018-05-16  49200.0  50200.0  49150.0  49850.0    49850.0  15918683\n",
       "2018-05-17  50300.0  50500.0  49400.0  49400.0    49400.0  10365440\n",
       "2018-05-18  49900.0  49900.0  49350.0  49500.0    49500.0   6706570\n",
       "2018-05-21  49650.0  50200.0  49100.0  50000.0    50000.0   9020998"
      ]
     },
     "execution_count": 7,
     "metadata": {},
     "output_type": "execute_result"
    }
   ],
   "source": [
    "import pandas_datareader.data as web\n",
    "import fix_yahoo_finance as yf\n",
    "yf.pdr_override()\n",
    "from datetime import date, timedelta\n",
    "import matplotlib.pyplot as pit\n",
    "import datetime\n",
    "\n",
    "start = datetime.datetime(2018,5,15)\n",
    "end = date.today()\n",
    "\n",
    "SEC = web.get_data_yahoo(\"005930.ks\", start, end)\n",
    "SEC.head()"
   ]
  },
  {
   "cell_type": "code",
   "execution_count": 9,
   "metadata": {},
   "outputs": [
    {
     "data": {
      "text/html": [
       "<div>\n",
       "<style scoped>\n",
       "    .dataframe tbody tr th:only-of-type {\n",
       "        vertical-align: middle;\n",
       "    }\n",
       "\n",
       "    .dataframe tbody tr th {\n",
       "        vertical-align: top;\n",
       "    }\n",
       "\n",
       "    .dataframe thead th {\n",
       "        text-align: right;\n",
       "    }\n",
       "</style>\n",
       "<table border=\"1\" class=\"dataframe\">\n",
       "  <thead>\n",
       "    <tr style=\"text-align: right;\">\n",
       "      <th></th>\n",
       "      <th>회사명</th>\n",
       "      <th>종목코드</th>\n",
       "      <th>업종</th>\n",
       "      <th>주요제품</th>\n",
       "      <th>상장일</th>\n",
       "      <th>결산월</th>\n",
       "      <th>대표자명</th>\n",
       "      <th>홈페이지</th>\n",
       "      <th>지역</th>\n",
       "    </tr>\n",
       "  </thead>\n",
       "  <tbody>\n",
       "    <tr>\n",
       "      <th>0</th>\n",
       "      <td>BYC</td>\n",
       "      <td>001460</td>\n",
       "      <td>봉제의복 제조업</td>\n",
       "      <td>메리야스,란제리 제조,도매/건축공사/부동산 임대,분양,공급</td>\n",
       "      <td>1975-06-02</td>\n",
       "      <td>12월</td>\n",
       "      <td>유 중 화</td>\n",
       "      <td>http://www.byc.co.kr</td>\n",
       "      <td>서울특별시</td>\n",
       "    </tr>\n",
       "    <tr>\n",
       "      <th>1</th>\n",
       "      <td>CJ CGV</td>\n",
       "      <td>079160</td>\n",
       "      <td>영화, 비디오물, 방송프로그램 제작 및 배급업</td>\n",
       "      <td>영화상영,영화관 운영</td>\n",
       "      <td>2004-12-24</td>\n",
       "      <td>12월</td>\n",
       "      <td>서 정</td>\n",
       "      <td>http://www.cgv.co.kr</td>\n",
       "      <td>서울특별시</td>\n",
       "    </tr>\n",
       "    <tr>\n",
       "      <th>2</th>\n",
       "      <td>DB손해보험</td>\n",
       "      <td>005830</td>\n",
       "      <td>보험업</td>\n",
       "      <td>자동차보험,화재보험,해상보험,특종보험,장기보험</td>\n",
       "      <td>1973-06-28</td>\n",
       "      <td>12월</td>\n",
       "      <td>김정남</td>\n",
       "      <td>http://www.idbins.com</td>\n",
       "      <td>서울특별시</td>\n",
       "    </tr>\n",
       "    <tr>\n",
       "      <th>3</th>\n",
       "      <td>DGB금융지주</td>\n",
       "      <td>139130</td>\n",
       "      <td>기타 금융업</td>\n",
       "      <td>지주회사</td>\n",
       "      <td>2011-06-07</td>\n",
       "      <td>12월</td>\n",
       "      <td>김경룡</td>\n",
       "      <td>http://www.dgbfg.co.kr</td>\n",
       "      <td>대구광역시</td>\n",
       "    </tr>\n",
       "    <tr>\n",
       "      <th>4</th>\n",
       "      <td>DSR제강</td>\n",
       "      <td>069730</td>\n",
       "      <td>1차 철강 제조업</td>\n",
       "      <td>와이어로프,각종 경강선,철선제품,PC강선,아연도 강연선 제조</td>\n",
       "      <td>2003-01-28</td>\n",
       "      <td>12월</td>\n",
       "      <td>홍하종</td>\n",
       "      <td>http://www.dsrcorp.com</td>\n",
       "      <td>전라남도</td>\n",
       "    </tr>\n",
       "  </tbody>\n",
       "</table>\n",
       "</div>"
      ],
      "text/plain": [
       "       회사명    종목코드                         업종  \\\n",
       "0      BYC  001460                   봉제의복 제조업   \n",
       "1   CJ CGV  079160  영화, 비디오물, 방송프로그램 제작 및 배급업   \n",
       "2   DB손해보험  005830                        보험업   \n",
       "3  DGB금융지주  139130                     기타 금융업   \n",
       "4    DSR제강  069730                  1차 철강 제조업   \n",
       "\n",
       "                                주요제품         상장일  결산월   대표자명  \\\n",
       "0   메리야스,란제리 제조,도매/건축공사/부동산 임대,분양,공급  1975-06-02  12월  유 중 화   \n",
       "1                        영화상영,영화관 운영  2004-12-24  12월    서 정   \n",
       "2          자동차보험,화재보험,해상보험,특종보험,장기보험  1973-06-28  12월    김정남   \n",
       "3                               지주회사  2011-06-07  12월    김경룡   \n",
       "4  와이어로프,각종 경강선,철선제품,PC강선,아연도 강연선 제조  2003-01-28  12월    홍하종   \n",
       "\n",
       "                     홈페이지     지역  \n",
       "0    http://www.byc.co.kr  서울특별시  \n",
       "1    http://www.cgv.co.kr  서울특별시  \n",
       "2   http://www.idbins.com  서울특별시  \n",
       "3  http://www.dgbfg.co.kr  대구광역시  \n",
       "4  http://www.dsrcorp.com   전라남도  "
      ]
     },
     "execution_count": 9,
     "metadata": {},
     "output_type": "execute_result"
    }
   ],
   "source": [
    "import urllib.parse\n",
    "import pandas as pd\n",
    "\n",
    "MARKET_CODE_DICT = {\n",
    "    'kospi': 'stockMkt',\n",
    "    'kosdaq': 'kosdaqMkt',\n",
    "    'konex': 'konexMkt'\n",
    "}\n",
    "\n",
    "DOWNLOAD_URL = 'kind.krx.co.kr/corpgeneral/corpList.do'\n",
    "\n",
    "def download_stock_codes(market=None, delisted=False):\n",
    "    params = {'method': 'download'}\n",
    "    \n",
    "    if market.lower() in MARKET_CODE_DICT:\n",
    "        params['marketType'] = MARKET_CODE_DICT[market]\n",
    "        \n",
    "    if not delisted:\n",
    "        params['searchType'] = 13\n",
    "        \n",
    "    params_string = urllib.parse.urlencode(params)\n",
    "    request_url = urllib.parse.urlunsplit(['http', DOWNLOAD_URL, '', params_string, ''])\n",
    "    \n",
    "    df = pd.read_html(request_url, header=0)[0]\n",
    "    df.종목코드 = df.종목코드.map('{:06d}'.format)\n",
    "    \n",
    "    return df\n",
    "\n",
    "kosdaq_stocks = download_stock_codes('kopsi')\n",
    "kosdaq_stocks.head()\n",
    "kosdaq_stocks.to_csv(\"d:/kospi.csv\", index=False, encoding=\"utf-8-sig\")\n",
    "type(kosdaq_stocks)\n",
    "kosdaq_stocks.head(5)\n",
    "    \n",
    "\n"
   ]
  },
  {
   "cell_type": "code",
   "execution_count": 13,
   "metadata": {},
   "outputs": [],
   "source": [
    "import matplotlib.pyplot as plt\n",
    "%matplotlib inline"
   ]
  },
  {
   "cell_type": "code",
   "execution_count": 14,
   "metadata": {},
   "outputs": [
    {
     "name": "stdout",
     "output_type": "stream",
     "text": [
      "[0.  0.5 1.  1.5 2.  2.5 3.  3.5 4.  4.5 5. ]\n",
      "[ 0.    0.25  1.    2.25  4.    6.25  9.   12.25 16.   20.25 25.  ]\n"
     ]
    },
    {
     "data": {
      "image/png": "[encoded data removed]",
      "text/plain": [
       "<matplotlib.figure.Figure at 0xe213ef0>"
      ]
     },
     "metadata": {},
     "output_type": "display_data"
    }
   ],
   "source": [
    "import numpy as np\n",
    "\n",
    "x= np.linspace(0,5,11)\n",
    "\n",
    "y = x**2\n",
    "\n",
    "plt.plot(x,y)\n",
    "\n",
    "print(x)\n",
    "print(y)"
   ]
  },
  {
   "cell_type": "code",
   "execution_count": 2,
   "metadata": {},
   "outputs": [
    {
     "name": "stdout",
     "output_type": "stream",
     "text": [
      "[*********************100%***********************]  1 of 1 downloaded\n"
     ]
    },
    {
     "data": {
      "image/png": "[encoded data removed]",
      "text/plain": [
       "<matplotlib.figure.Figure at 0x57da2b0>"
      ]
     },
     "metadata": {},
     "output_type": "display_data"
    }
   ],
   "source": [
    "import pandas_datareader.data as web\n",
    "import fix_yahoo_finance as yf\n",
    "yf.pdr_override()\n",
    "from datetime import date, timedelta\n",
    "import matplotlib.pyplot as plt\n",
    "import datetime\n",
    "\n",
    "start = datetime.datetime(2017,4,1)\n",
    "end = date.today()\n",
    "\n",
    "SEC = web.get_data_yahoo(\"003490.KS\", start, end)\n",
    "SEC['Close'].plot(style='--')\n",
    "plt.show()"
   ]
  },
  {
   "cell_type": "code",
   "execution_count": null,
   "metadata": {},
   "outputs": [],
   "source": []
  }
 ],
 "metadata": {
  "kernelspec": {
   "display_name": "Python 3",
   "language": "python",
   "name": "python3"
  },
  "language_info": {
   "codemirror_mode": {
    "name": "ipython",
    "version": 3
   },
   "file_extension": ".py",
   "mimetype": "text/x-python",
   "name": "python",
   "nbconvert_exporter": "python",
   "pygments_lexer": "ipython3",
   "version": "3.6.4"
  }
 },
 "nbformat": 4,
 "nbformat_minor": 2
}
