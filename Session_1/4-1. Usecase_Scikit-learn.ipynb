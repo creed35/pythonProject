{
 "cells": [
  {
   "cell_type": "code",
   "execution_count": 4,
   "metadata": {},
   "outputs": [
    {
     "name": "stdout",
     "output_type": "stream",
     "text": [
      "6000\n",
      "       weight  height\n",
      "7300     0.73   0.610\n",
      "18209    0.71   0.815\n",
      "7300     fat\n",
      "18209    fat\n",
      "Name: label, dtype: object\n",
      "  predict\n",
      "0     fat\n",
      "1     fat\n",
      "6000\n",
      "   weight  height   label predict\n",
      "0    0.73   0.610     fat     fat\n",
      "1    0.71   0.815     fat     fat\n",
      "2    0.58   0.760     fat     fat\n",
      "3    0.74   0.810     fat     fat\n",
      "4    0.58   0.790  normal  normal\n",
      "정답률 = 0.9895\n",
      "리포트 =\n",
      "              precision    recall  f1-score   support\n",
      "\n",
      "        fat       1.00      1.00      1.00      2342\n",
      "     normal       0.97      0.99      0.98      1782\n",
      "       thin       1.00      0.97      0.98      1876\n",
      "\n",
      "avg / total       0.99      0.99      0.99      6000\n",
      "\n"
     ]
    }
   ],
   "source": [
    "from sklearn import svm, metrics\n",
    "from sklearn.model_selection import train_test_split\n",
    "import matplotlib.pyplot as plt\n",
    "import pandas as pd\n",
    "\n",
    "# 키와 몸무게 데이터 읽어 들이기 --- (※1)\n",
    "tbl = pd.read_csv(\"../dataset/bmi.csv\")\n",
    "# print(tbl)\n",
    "\n",
    "# 칼럼(열)을 자르고 정규화하기 --- (※2)\n",
    "label = tbl[\"label\"]\n",
    "w = tbl[\"weight\"] / 100 # 최대 100kg 라고 가정\n",
    "h = tbl[\"height\"] / 200 # 최대 200cm 라고 가정\n",
    "wh = pd.concat([w, h], axis=1)\n",
    "# print (wh.head())\n",
    "\n",
    "# 학습 전용 데이터와 테스트 전용 데이터로 나누기 --- (※3)\n",
    "data_train, data_test, label_train, label_test = train_test_split(wh, label, test_size = 0.3)\n",
    "\n",
    "# train : 70%, test = 30%\n",
    "# wh -> feature\n",
    "#label -> answer\n",
    "\n",
    "# print(len(wh))\n",
    "# print(len(data_train))\n",
    "# print(len(label_train))\n",
    "# print(len(data_test))\n",
    "# print(len(label_test))\n",
    "# data_test.to_csv(\"d:/test.csv\")\n",
    "\n",
    "# 데이터 학습하기 --- (※4)\n",
    "model = svm.SVC()\n",
    "model.fit(data_train, label_train)\n",
    "\n",
    "# 데이터 예측하기 --- (※5)\n",
    "predict = pd.DataFrame(model.predict(data_test))\n",
    "print(predict.size)\n",
    "predict.columns = [\"predict\"]\n",
    "# predict.head()\n",
    "\n",
    "# 결과 테스트하기 --- (※6)\n",
    "print(data_test.head(2))\n",
    "print(label_test.head(2))\n",
    "print(predict.head(2))\n",
    "\n",
    "r = pd.concat([data_test.reset_index(drop=True), label_test.reset_index(drop=True), predict.reset_index(drop=True)], axis = 1)\n",
    "r.to_csv(\"d:/result.csv\")\n",
    "print(len(r))\n",
    "print(r.head())\n",
    "\n",
    "# 결과 테스트하기 --- (※6)\n",
    "ac_score = metrics.accuracy_score(label_test, predict)\n",
    "cl_report = metrics.classification_report(label_test, predict)\n",
    "\n",
    "print(\"정답률 =\", ac_score)\n",
    "print(\"리포트 =\\n\", cl_report)"
   ]
  },
  {
   "cell_type": "code",
   "execution_count": null,
   "metadata": {},
   "outputs": [],
   "source": []
  },
  {
   "cell_type": "code",
   "execution_count": null,
   "metadata": {},
   "outputs": [],
   "source": []
  }
 ],
 "metadata": {
  "kernelspec": {
   "display_name": "Python 3",
   "language": "python",
   "name": "python3"
  },
  "language_info": {
   "codemirror_mode": {
    "name": "ipython",
    "version": 3
   },
   "file_extension": ".py",
   "mimetype": "text/x-python",
   "name": "python",
   "nbconvert_exporter": "python",
   "pygments_lexer": "ipython3",
   "version": "3.6.4"
  }
 },
 "nbformat": 4,
 "nbformat_minor": 2
}
